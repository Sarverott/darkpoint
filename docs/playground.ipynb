{
 "cells": [
  {
   "cell_type": "code",
   "execution_count": null,
   "id": "93960fc6",
   "metadata": {},
   "outputs": [],
   "source": [
    "%pip install .. --force-reinstall --upgrade --no-deps --no-cache-dir\n",
    "from importlib import reload  # Python 3.4+\n",
    "import darkpoint\n",
    "darkpoint = reload(darkpoint)\n"
   ]
  },
  {
   "cell_type": "code",
   "execution_count": null,
   "id": "5596391c",
   "metadata": {},
   "outputs": [],
   "source": [
    "darkpoint"
   ]
  }
 ],
 "metadata": {
  "kernelspec": {
   "display_name": ".venv",
   "language": "python",
   "name": "python3"
  },
  "language_info": {
   "name": "python",
   "version": "3.12.3"
  }
 },
 "nbformat": 4,
 "nbformat_minor": 5
}
